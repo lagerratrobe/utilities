{
 "cells": [
  {
   "cell_type": "code",
   "execution_count": 43,
   "metadata": {},
   "outputs": [
    {
     "name": "stdout",
     "output_type": "stream",
     "text": [
      "foo 25 1\n",
      "foo 22 2\n",
      "bar 23 1\n"
     ]
    }
   ],
   "source": [
    "from collections import defaultdict\n",
    "\n",
    "dupe_dict = [{'id': 1, 'parent_id': 22, 'name': \"foo\"}, # ok\n",
    "             {'id': 2, 'parent_id': 22, 'name': \"foo\"}, # not ok, same name and parent_id, different feature id\n",
    "             {'id': 5, 'parent_id': 25, 'name': \"foo\"}, # ok, same name, different id, different parent_id\n",
    "             {'id': 3, 'parent_id': 23, 'name': \"bar\"}, # ok\n",
    "             {'id': 3, 'parent_id': 23, 'name': \"bar\"}] # ok, same name, but also same id, like (es_ES and pt_BR)\n",
    "\n",
    "def read_names(dupe_dict):\n",
    "    '''Look for names that are duplicates and have the same parent_id, but belong to different features.\n",
    "       Essentially this creates a \"name\" index.  Each unique name in a role is indexed and has the parent_id\n",
    "       and feature_ids attached to it'''\n",
    "    name_holder = defaultdict(set)\n",
    "    for name_entry in dupe_dict:\n",
    "        id = name_entry['id']\n",
    "        name = name_entry['name']\n",
    "        parent_id = name_entry['parent_id']\n",
    "        if name not in name_holder:\n",
    "            name_holder[name] = {parent_id: set()}\n",
    "            name_holder[name][parent_id].add(id)\n",
    "        if parent_id not in name_holder[name]:\n",
    "            name_holder[name][parent_id] = set()\n",
    "            name_holder[name][parent_id].add(id)\n",
    "        else:\n",
    "            name_holder[name][parent_id].add(id)\n",
    "    return name_holder\n",
    "\n",
    "def dupe_check(parsed_names):\n",
    "    '''Checks to see if any name is used more than once for different features with the same parent_id.'''\n",
    "    for name in parsed_names:\n",
    "        for parent_id in parsed_names[name]:\n",
    "            id_count = len(parsed_names[name][parent_id])\n",
    "            print name, parent_id, id_count\n",
    "            \n",
    "        \n",
    "parsed_names = read_names(dupe_dict)\n",
    "dupes = dupe_check(parsed_names)"
   ]
  },
  {
   "cell_type": "code",
   "execution_count": null,
   "metadata": {
    "collapsed": true
   },
   "outputs": [],
   "source": [
    "import unittest\n",
    "from fdb_test_base import FDBTestBase\n",
    "from teamcity import is_running_under_teamcity\n",
    "from teamcity.unittestpy import TeamcityTestRunner\n",
    "\n",
    "class TestDupeNames(FDBTestBase):\n",
    "\n",
    "    def testCountryNames(self):\n",
    "        map_codes = ['0','1','2','3']\n",
    "        test_query = '''SELECT \"CountrySynonyms\".\"ParentID\" as \"ID\",\n",
    "                               \"CountrySynonyms\".\"Name\",\n",
    "                               \"CountrySynonyms\".\"MapCode\",\n",
    "                               \"Country\".\"ParentID\"\n",
    "                               FROM \"CountrySynonyms\"\n",
    "                               JOIN \"Country\" ON \"CountrySynonyms\".\"ParentID\" = \"Country\".\"ID\" \n",
    "                               WHERE \"CountrySynonyms\".\"MapCode\" = '{}' '''\n",
    "        errors = []\n",
    "        for map_code in map_codes:\n",
    "            results = self.fdb.execute_dict_query(test_query.format(map_code))\n",
    "            print results\n",
    "        #self.assertTrue(errors == False, errors)\n",
    "\n",
    "if __name__ == '__main__':\n",
    "    if is_running_under_teamcity():\n",
    "        runner = TeamcityTestRunner()\n",
    "    else:\n",
    "        runner = unittest.TextTestRunner()\n",
    "    unittest.main(testRunner=runner)\n",
    "                                                                   "
   ]
  }
 ],
 "metadata": {
  "kernelspec": {
   "display_name": "Python 2",
   "language": "python",
   "name": "python2"
  },
  "language_info": {
   "codemirror_mode": {
    "name": "ipython",
    "version": 2
   },
   "file_extension": ".py",
   "mimetype": "text/x-python",
   "name": "python",
   "nbconvert_exporter": "python",
   "pygments_lexer": "ipython2",
   "version": "2.7.13"
  }
 },
 "nbformat": 4,
 "nbformat_minor": 2
}
